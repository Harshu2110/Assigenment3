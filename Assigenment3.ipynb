{
 "cells": [
  {
   "cell_type": "code",
   "execution_count": null,
   "id": "920be5d3",
   "metadata": {},
   "outputs": [],
   "source": [
    "Que 1)Why are functions advantageous to have in your programs?"
   ]
  },
  {
   "cell_type": "code",
   "execution_count": null,
   "id": "b9209d00",
   "metadata": {},
   "outputs": [],
   "source": [
    "Ans: Functions reduces the need for duplicate code. It makes the code shorter and easier to read and easier to understand."
   ]
  },
  {
   "cell_type": "code",
   "execution_count": null,
   "id": "b74dc285",
   "metadata": {},
   "outputs": [],
   "source": [
    "2. When does the code in a function run: when it's specified or when it's called?"
   ]
  },
  {
   "cell_type": "code",
   "execution_count": null,
   "id": "8a6dbdce",
   "metadata": {},
   "outputs": [],
   "source": [
    "Ans: The code in a function runs when it's called not when it's been specified."
   ]
  },
  {
   "cell_type": "code",
   "execution_count": null,
   "id": "01996c82",
   "metadata": {},
   "outputs": [],
   "source": [
    "3. What statement creates a function?"
   ]
  },
  {
   "cell_type": "code",
   "execution_count": null,
   "id": "355d0c62",
   "metadata": {},
   "outputs": [],
   "source": [
    "Ans: 'def' this statement creates the function."
   ]
  },
  {
   "cell_type": "code",
   "execution_count": null,
   "id": "e494f80e",
   "metadata": {},
   "outputs": [],
   "source": [
    "4. What is the difference between a function and a function call?"
   ]
  },
  {
   "cell_type": "code",
   "execution_count": null,
   "id": "82da8fb5",
   "metadata": {},
   "outputs": [],
   "source": [
    "Ans: Function consists of def statement and code in the def.\n",
    "    \n",
    "    function call is used to call the function to run the code, the function call evaluates to the function’s return value."
   ]
  },
  {
   "cell_type": "code",
   "execution_count": null,
   "id": "39a78e80",
   "metadata": {},
   "outputs": [],
   "source": [
    "5. How many global scopes are there in a Python program? How many local scopes?"
   ]
  },
  {
   "cell_type": "code",
   "execution_count": null,
   "id": "a2398b1e",
   "metadata": {},
   "outputs": [],
   "source": [
    "Ans: There is only one global scope in python and local scope is created whenever the function is called."
   ]
  },
  {
   "cell_type": "code",
   "execution_count": null,
   "id": "d943fe22",
   "metadata": {},
   "outputs": [],
   "source": [
    "6. What happens to variables in a local scope when the function call returns?"
   ]
  },
  {
   "cell_type": "code",
   "execution_count": null,
   "id": "6dddb4e0",
   "metadata": {},
   "outputs": [],
   "source": [
    "Ans: All the variables are forgotten due the destruction of the local scope when function call returns."
   ]
  },
  {
   "cell_type": "code",
   "execution_count": null,
   "id": "b1d16eef",
   "metadata": {},
   "outputs": [],
   "source": [
    "7. What is the concept of a return value? Is it possible to have a return value in an expression?"
   ]
  },
  {
   "cell_type": "code",
   "execution_count": null,
   "id": "7700fdc8",
   "metadata": {},
   "outputs": [],
   "source": [
    "Ans: A return value is the value that a function call evaluates to. Like any value, a return value can be used as part of an expression."
   ]
  },
  {
   "cell_type": "code",
   "execution_count": null,
   "id": "316abe21",
   "metadata": {},
   "outputs": [],
   "source": [
    "8. If a function does not have a return statement, what is the return value of a call to that function?"
   ]
  },
  {
   "cell_type": "code",
   "execution_count": null,
   "id": "d263effd",
   "metadata": {},
   "outputs": [],
   "source": [
    "Ans: The return value is none."
   ]
  },
  {
   "cell_type": "code",
   "execution_count": null,
   "id": "ad74229d",
   "metadata": {},
   "outputs": [],
   "source": [
    "9. How do you make a function variable refer to the global variable?"
   ]
  },
  {
   "cell_type": "code",
   "execution_count": null,
   "id": "c08d14bc",
   "metadata": {},
   "outputs": [],
   "source": [
    "Ans: we can use global keyword to make a function variable refer to gloabal variable."
   ]
  },
  {
   "cell_type": "code",
   "execution_count": null,
   "id": "0542de84",
   "metadata": {},
   "outputs": [],
   "source": [
    "10. What is the data type of None?"
   ]
  },
  {
   "cell_type": "code",
   "execution_count": null,
   "id": "071c3bc3",
   "metadata": {},
   "outputs": [],
   "source": [
    "Ans: NoneType "
   ]
  },
  {
   "cell_type": "code",
   "execution_count": null,
   "id": "4e22bc9c",
   "metadata": {},
   "outputs": [],
   "source": [
    "11. What does the sentence import areallyourpetsnamederic do?"
   ]
  },
  {
   "cell_type": "code",
   "execution_count": null,
   "id": "260351bb",
   "metadata": {},
   "outputs": [],
   "source": [
    "Ans: The import statement imports the module namae arellyourpetsnamederic."
   ]
  },
  {
   "cell_type": "code",
   "execution_count": null,
   "id": "709d6751",
   "metadata": {},
   "outputs": [],
   "source": [
    "12. If you had a bacon() feature in a spam module, what would you call it after importing spam?"
   ]
  },
  {
   "cell_type": "code",
   "execution_count": null,
   "id": "73b4dc00",
   "metadata": {},
   "outputs": [],
   "source": [
    "Ans: the function can be called with spam.bacon()"
   ]
  },
  {
   "cell_type": "code",
   "execution_count": null,
   "id": "719ad95a",
   "metadata": {},
   "outputs": [],
   "source": [
    "13. What can you do to save a programme from crashing if it encounters an error?"
   ]
  },
  {
   "cell_type": "code",
   "execution_count": null,
   "id": "45a5721d",
   "metadata": {},
   "outputs": [],
   "source": [
    "Ans: We can use try clause and write the code within this clause to prevent it from crashing."
   ]
  },
  {
   "cell_type": "code",
   "execution_count": null,
   "id": "834f1e3f",
   "metadata": {},
   "outputs": [],
   "source": [
    "14. What is the purpose of the try clause? What is the purpose of the except clause?"
   ]
  },
  {
   "cell_type": "code",
   "execution_count": null,
   "id": "78526520",
   "metadata": {},
   "outputs": [],
   "source": [
    "Ans: Try clause is use to prevent it from crashing when there is chance to encounter an error.\n",
    "    \n",
    "    except clause is used to catch and handle the exceptions that are encountered in the try clause."
   ]
  },
  {
   "cell_type": "code",
   "execution_count": null,
   "id": "6a03a844",
   "metadata": {},
   "outputs": [],
   "source": []
  }
 ],
 "metadata": {
  "kernelspec": {
   "display_name": "Python 3 (ipykernel)",
   "language": "python",
   "name": "python3"
  },
  "language_info": {
   "codemirror_mode": {
    "name": "ipython",
    "version": 3
   },
   "file_extension": ".py",
   "mimetype": "text/x-python",
   "name": "python",
   "nbconvert_exporter": "python",
   "pygments_lexer": "ipython3",
   "version": "3.9.7"
  }
 },
 "nbformat": 4,
 "nbformat_minor": 5
}
